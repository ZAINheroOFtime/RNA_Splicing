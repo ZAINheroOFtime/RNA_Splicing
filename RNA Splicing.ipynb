{
 "cells": [
  {
   "cell_type": "code",
   "execution_count": 28,
   "metadata": {},
   "outputs": [],
   "source": [
    "from Bio import SeqIO\n",
    "import re"
   ]
  },
  {
   "cell_type": "code",
   "execution_count": 29,
   "metadata": {},
   "outputs": [],
   "source": [
    "rna_table = {                                                     \n",
    "    'UUU': 'F',     'CUU': 'L',     'AUU': 'I',     'GUU': 'V',\n",
    "    'UUC': 'F',     'CUC': 'L',     'AUC': 'I',     'GUC': 'V',\n",
    "    'UUA': 'L',     'CUA': 'L',     'AUA': 'I',     'GUA': 'V',\n",
    "    'UUG': 'L',     'CUG': 'L',     'AUG': 'M',     'GUG': 'V',\n",
    "    'UCU': 'S',     'CCU': 'P',     'ACU': 'T',     'GCU': 'A',\n",
    "    'UCC': 'S',     'CCC': 'P',     'ACC': 'T',     'GCC': 'A',\n",
    "    'UCA': 'S',     'CCA': 'P',     'ACA': 'T',     'GCA': 'A',\n",
    "    'UCG': 'S',     'CCG': 'P',     'ACG': 'T',     'GCG': 'A',\n",
    "    'UAU': 'Y',     'CAU': 'H',     'AAU': 'N',     'GAU': 'D',\n",
    "    'UAC': 'Y',     'CAC': 'H',     'AAC': 'N',     'GAC': 'D',\n",
    "    'UAA': 'Stop',  'CAA': 'Q',     'AAA': 'K',     'GAA': 'E',\n",
    "    'UAG': 'Stop',  'CAG': 'Q',     'AAG': 'K',     'GAG': 'E',\n",
    "    'UGU': 'C',     'CGU': 'R',     'AGU': 'S',     'GGU': 'G',\n",
    "    'UGC': 'C',     'CGC': 'R',     'AGC': 'S',     'GGC': 'G',\n",
    "    'UGA': 'Stop',  'CGA': 'R',     'AGA': 'R',     'GGA': 'G',\n",
    "    'UGG': 'W',     'CGG': 'R',     'AGG': 'R',     'GGG': 'G' \n",
    "}"
   ]
  },
  {
   "cell_type": "code",
   "execution_count": 30,
   "metadata": {},
   "outputs": [
    {
     "name": "stdout",
     "output_type": "stream",
     "text": [
      "ATGCGTTACATGGTTGGCAAACGATGGTACGCAAGCTGCCCTATGGGAGTCCTGTATGCCATTTTTCGGTTTATGCCAGCAACTGTTTCAACTACGTTCGTTCTAAAGCGGAGATGGGAGTCGTCGGTGTCGACGCCATCGTGGTTGATGGCCTGCCGTGTTACACACATACCTACGGTTACTTTCATAATGGCTGTTTTAAATAATTCATCAACTTCCTACGCGCCCCTAAGGGGGCACGGATAGTTCAAATGACATAAAAGTATTGCTGTATTGCCCTAACCCTACCTCCAAACAATGCATCCTGACTTACTTCCGGCCTACGCGAATAGTAGACAGTACACCCGCAATTTATTTCGCTTTGAGAATGGCCGCCCGGTAGTTGGTATTCGGGGGGCATCCGCAGAGCGATGGCGCCGTTGCTATAGTCTACAGTGCATGCACAGTTGACAAGAAAACTCAAAGCAGCCGGTGTCGCGGGCATGCCCCATTTCTTATTTGAGCGGTATGATCTAGGATTCAGAGCGATATCTCAACCCATGATGGATATCTCCGCTCAACGACATGCGTAGTGACGAGTAAACTTTTAAATCCGACCTCACTTATCAACCTGTGCCGCGGTGGGAGCCTAGATGGAATAGGTGGTGTCAGAAAGGTCATCTAATAGTCTCAGGAATGAGAGCGACCGGGTCGCCGACGCCTCTATCGCCAGCCCCACCGCCTGCCCCCATGTGGGCAAGTAATGCCCGCGCGTTAGCACTGGGATCCCGAGCTCCAGGCAGCACCACACCTTTGCTACAATGTCTTGCTCTAAAACTGCATCAGTCAGCAGATTCTTTGCTCAGCTTCCTTGTCTTCGTTACATCCGCACTGTTGTCGGTACAGCATTGTAAGGACGAACGTAGGAGACTCCCCAACGACCATCTTCCGGCGCCATAA\n",
      "['ACTGTTGTCGGTACAGCATTGTAAG', 'CTTATCAACCTGTGCCGCGGTGGGAGCCTAGATGGAATAGGTG', 'ATGGCTGTTTTAAATAATTC', 'GCGTAGTGACG', 'TTTGCTACAATGTCTTGCTCTAAAACTGCATCAGTCAGC', 'GGAGTCCTGTATGCC', 'AAACAATGCATCCT', 'GCCTCTATCGCCAGCCCCA', 'TTCGTTCTAAAGCGGAGATGGGAGTCGTCGGTGTCG', 'TGGGCAAGTAATGCCCG', 'TTCAGAGCGATATCTCAA', 'TTTGAGAATGGC', 'GGGGCACGGATAGTTCAAATGACATAAAAGTA', 'TGGCGCCGTTGCTATAGTCTACAGTGCATGCACAGTTGACAAGAAAA']\n"
     ]
    }
   ],
   "source": [
    "fasta = SeqIO.parse(\"splice.fasta\",'fasta')\n",
    "sequence = ''\n",
    "introns = []\n",
    "count = 0\n",
    "for seq in fasta:\n",
    "    if count == 0:\n",
    "        sequence = str(seq.seq)\n",
    "    else:\n",
    "        introns.append(str(seq.seq))\n",
    "    count+=1\n",
    "print(sequence)\n",
    "print(introns)"
   ]
  },
  {
   "cell_type": "code",
   "execution_count": 31,
   "metadata": {},
   "outputs": [
    {
     "name": "stdout",
     "output_type": "stream",
     "text": [
      "AUGCGUUACAUGGUUGGCAAACGAUGGUACGCAAGCUGCCCUAUGAUUUUUCGGUUUAUGCCAGCAACUGUUUCAACUACGACGCCAUCGUGGUUGAUGGCCUGCCGUGUUACACACAUACCUACGGUUACUUUCAUAAUCAACUUCCUACGCGCCCCUAAGUUGCUGUAUUGCCCUAACCCUACCUCCGACUUACUUCCGGCCUACGCGAAUAGUAGACAGUACACCCGCAAUUUAUUUCGCCGCCCGGUAGUUGGUAUUCGGGGGGCAUCCGCAGAGCGACUCAAAGCAGCCGGUGUCGCGGGCAUGCCCCAUUUCUUAUUUGAGCGGUAUGAUCUAGGACCCAUGAUGGAUAUCUCCGCUCAACGACAUAGUAAACUUUUAAAUCCGACCUCAGUGUCAGAAAGGUCAUCUAAUAGUCUCAGGAAUGAGAGCGACCGGGUCGCCGACCCGCCUGCCCCCAUGCGCGUUAGCACUGGGAUCCCGAGCUCCAGGCAGCACCACACCAGAUUCUUUGCUCAGCUUCCUUGUCUUCGUUACAUCCGCGACGAACGUAGGAGACUCCCCAACGACCAUCUUCCGGCGCCAUAA\n"
     ]
    }
   ],
   "source": [
    "for seq in introns:\n",
    "    sequence = sequence.replace(seq,'')\n",
    "sequence = sequence.replace('T','U')\n",
    "print(sequence)"
   ]
  },
  {
   "cell_type": "code",
   "execution_count": 32,
   "metadata": {},
   "outputs": [
    {
     "name": "stdout",
     "output_type": "stream",
     "text": [
      "MRYMVGKRWYASCPMIFRFMPATVSTTTPSWLMACRVTHIPTVTFIINFLRAPKLLYCPNPTSDLLPAYANSRQYTRNLFRRPVVGIRGASAERLKAAGVAGMPHFLFERYDLGPMMDISAQRHSKLLNPTSVSERSSNSLRNESDRVADPPAPMRVSTGIPSSRQHHTRFFAQLPCLRYIRDERRRLPNDHLPAP\n"
     ]
    }
   ],
   "source": [
    "seq_list = re.findall('...',sequence)\n",
    "result = []\n",
    "for codon in seq_list:\n",
    "    result.append([v for k,v in rna_table.items() if k==codon])\n",
    "result = [item for sublist in result for item in sublist]\n",
    "result_str = ''\n",
    "for protein in result:\n",
    "    result_str = str(result_str+protein).replace(\"'\",'').replace(', ', '').replace('Stop', '')\n",
    "print(result_str)"
   ]
  }
 ],
 "metadata": {
  "interpreter": {
   "hash": "ca84a58b072d25fcb7a3fc71b36237c532d1768f3d3e7d7980f49d926c1ceec8"
  },
  "kernelspec": {
   "display_name": "Python 3.10.2 ('minimal_ds')",
   "language": "python",
   "name": "python3"
  },
  "language_info": {
   "codemirror_mode": {
    "name": "ipython",
    "version": 3
   },
   "file_extension": ".py",
   "mimetype": "text/x-python",
   "name": "python",
   "nbconvert_exporter": "python",
   "pygments_lexer": "ipython3",
   "version": "3.10.2"
  },
  "orig_nbformat": 4
 },
 "nbformat": 4,
 "nbformat_minor": 2
}
